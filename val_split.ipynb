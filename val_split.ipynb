{
 "cells": [
  {
   "cell_type": "code",
   "execution_count": 4,
   "id": "2f0a6800",
   "metadata": {},
   "outputs": [],
   "source": [
    "import os\n",
    "\n",
    "import numpy as np\n",
    "\n",
    "import shutil\n"
   ]
  },
  {
   "cell_type": "code",
   "execution_count": 7,
   "id": "de8bc044",
   "metadata": {},
   "outputs": [],
   "source": [
    "#rootdir= 'C/Users/Siva/Downloads/GAIP_22_June-main' #path of the original folder\n",
    "\n",
    "os.makedirs('train_bike')\n",
    "\n",
    "os.makedirs('val_bike')\n",
    "\n",
    "\n",
    "source =  'train_bike1' "
   ]
  },
  {
   "cell_type": "code",
   "execution_count": 8,
   "id": "cf3da6ef",
   "metadata": {},
   "outputs": [],
   "source": [
    "allFileNames = os.listdir(source)\n",
    "\n",
    "np.random.shuffle(allFileNames)\n",
    "\n",
    "test_ratio = 0.10\n",
    "\n",
    "train_FileNames, test_FileNames = np.split(np.array(allFileNames),\n",
    "                                                      [int(len(allFileNames)* (1 - test_ratio))])\n",
    "\n",
    "train_FileNames = [source+'/'+ name for name in train_FileNames.tolist()]\n",
    "test_FileNames = [source+'/' + name for name in test_FileNames.tolist()]\n",
    "\n",
    "for name in train_FileNames:\n",
    "  shutil.copy(name,'train_bike')\n",
    "\n",
    "for name in test_FileNames:\n",
    "  shutil.copy(name, 'val_bike')"
   ]
  },
  {
   "cell_type": "code",
   "execution_count": null,
   "id": "b7c0ae73",
   "metadata": {},
   "outputs": [],
   "source": []
  }
 ],
 "metadata": {
  "kernelspec": {
   "display_name": "Python 3 (ipykernel)",
   "language": "python",
   "name": "python3"
  },
  "language_info": {
   "codemirror_mode": {
    "name": "ipython",
    "version": 3
   },
   "file_extension": ".py",
   "mimetype": "text/x-python",
   "name": "python",
   "nbconvert_exporter": "python",
   "pygments_lexer": "ipython3",
   "version": "3.9.12"
  }
 },
 "nbformat": 4,
 "nbformat_minor": 5
}
