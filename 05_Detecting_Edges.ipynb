{
  "nbformat": 4,
  "nbformat_minor": 0,
  "metadata": {
    "colab": {
      "name": "05 Detecting Edges.ipynb",
      "provenance": [],
      "collapsed_sections": []
    },
    "kernelspec": {
      "name": "python3",
      "display_name": "Python 3"
    }
  },
  "cells": [
    {
      "cell_type": "code",
      "metadata": {
        "id": "zTy6-DsT6hSb"
      },
      "source": [
        ""
      ],
      "execution_count": null,
      "outputs": []
    },
    {
      "cell_type": "code",
      "metadata": {
        "id": "PoZaaKwk7ExP",
        "colab": {
          "base_uri": "https://localhost:8080/",
          "height": 341
        },
        "outputId": "7f300390-a4e4-474d-d2d5-aa6ff47ed510"
      },
      "source": [
        "# let's play around with dummy images\n",
        "import numpy as np\n",
        "import matplotlib.pyplot as plt\n",
        "#from google.colab.patches import cv2_imshow\n",
        "# 3 dummy images  -> 2 dimensional arrays of numbers \n",
        "i1 = np.array([np.array([200,200]), np.array([200,200])])\n",
        "i2 = np.array([np.array([200,200]), np.array([0,0])])\n",
        "i3 = np.array([np.array([200,0]), np.array([200,0])])\n",
        "plt.figure(figsize=(5,5))\n",
        "plt.imshow(i1)\n"
      ],
      "execution_count": null,
      "outputs": [
        {
          "output_type": "execute_result",
          "data": {
            "text/plain": [
              "<matplotlib.image.AxesImage at 0x7f3b865f1780>"
            ]
          },
          "metadata": {
            "tags": []
          },
          "execution_count": 9
        },
        {
          "output_type": "display_data",
          "data": {
            "image/png": "[encoded data removed]",
            "text/plain": [
              "<Figure size 360x360 with 1 Axes>"
            ]
          },
          "metadata": {
            "tags": [],
            "needs_background": "light"
          }
        }
      ]
    },
    {
      "cell_type": "code",
      "metadata": {
        "id": "rRetgTsB7447",
        "colab": {
          "base_uri": "https://localhost:8080/",
          "height": 287
        },
        "outputId": "24a432b5-a793-4bc0-9553-d6b283308e61"
      },
      "source": [
        "plt.imshow(i2)\n"
      ],
      "execution_count": null,
      "outputs": [
        {
          "output_type": "execute_result",
          "data": {
            "text/plain": [
              "<matplotlib.image.AxesImage at 0x7f3b86c07c18>"
            ]
          },
          "metadata": {
            "tags": []
          },
          "execution_count": 10
        },
        {
          "output_type": "display_data",
          "data": {
            "image/png": "[encoded data removed]",
            "text/plain": [
              "<Figure size 432x288 with 1 Axes>"
            ]
          },
          "metadata": {
            "tags": [],
            "needs_background": "light"
          }
        }
      ]
    },
    {
      "cell_type": "code",
      "metadata": {
        "id": "ZZJ_cHQB8h7e",
        "colab": {
          "base_uri": "https://localhost:8080/",
          "height": 287
        },
        "outputId": "db860068-531c-44df-8292-20fad2d5fb87"
      },
      "source": [
        "plt.imshow(i3)"
      ],
      "execution_count": null,
      "outputs": [
        {
          "output_type": "execute_result",
          "data": {
            "text/plain": [
              "<matplotlib.image.AxesImage at 0x7f3b8667bf60>"
            ]
          },
          "metadata": {
            "tags": []
          },
          "execution_count": 11
        },
        {
          "output_type": "display_data",
          "data": {
            "image/png": "[encoded data removed]",
            "text/plain": [
              "<Figure size 432x288 with 1 Axes>"
            ]
          },
          "metadata": {
            "tags": [],
            "needs_background": "light"
          }
        }
      ]
    },
    {
      "cell_type": "code",
      "metadata": {
        "id": "9V9sgVcg8jT0",
        "colab": {
          "base_uri": "https://localhost:8080/",
          "height": 335
        },
        "outputId": "8aeb5f2f-22f1-4c3a-943a-0d0724b9cbc9"
      },
      "source": [
        "# We will detect PATTERNS here via KERNELS \n",
        "# KERNELs here mean matrices that will be multiplied or (any other ops) to original data\n",
        "\n",
        "#  2  2   X    200  0   ->   2X200   2X0  -> 400  0 -> 400 + 0 -400 +0 -> 0 \n",
        "# -2 -2        200  0       -2X200  -2X0    -400  0 \n",
        "# HERE THER IS NO HORIZONTAL EDGE, but vertical edge\n",
        "# if the reasult of the product was 0 -> we can conclude NO horizontal edge\n",
        "\n",
        "k_horizontal = np.array([np.array([2,2]),np.array([-2,-2]) ]) # this will make results negative, and thus -> 0 \n",
        "k_vertical = np.array([np.array([2,-2]),np.array([2,-2]) ]) # this will make results negative, and thus -> 0 \n",
        "def applyKernel(img, kernel):\n",
        "  return np.sum(np.multiply(img, kernel))  # DOT product \n",
        "\n",
        "found = lambda val: 'Edge Detected' if val>0 else 'No Edge Detected'\n",
        "\n",
        "\n",
        "print('Horizontal Kernel on Image 1')\n",
        "print(found(applyKernel(i1, k_horizontal)))\n",
        "print('Vertical Kernel on Image 1')\n",
        "print(found(applyKernel(i1, k_vertical)))\n",
        "plt.axis('off')\n",
        "plt.imshow(i1)"
      ],
      "execution_count": null,
      "outputs": [
        {
          "output_type": "stream",
          "text": [
            "Horizontal Kernel on Image 1\n",
            "No Edge Detected\n",
            "Vertical Kernel on Image 1\n",
            "No Edge Detected\n"
          ],
          "name": "stdout"
        },
        {
          "output_type": "execute_result",
          "data": {
            "text/plain": [
              "<matplotlib.image.AxesImage at 0x7f3b861fe940>"
            ]
          },
          "metadata": {
            "tags": []
          },
          "execution_count": 21
        },
        {
          "output_type": "display_data",
          "data": {
            "image/png": "[encoded data removed]",
            "text/plain": [
              "<Figure size 432x288 with 1 Axes>"
            ]
          },
          "metadata": {
            "tags": [],
            "needs_background": "light"
          }
        }
      ]
    },
    {
      "cell_type": "code",
      "metadata": {
        "id": "fDxcBzXn95G0",
        "colab": {
          "base_uri": "https://localhost:8080/",
          "height": 335
        },
        "outputId": "0ea23f26-9c9e-4daf-da66-933f4496b9d1"
      },
      "source": [
        "print('Horizontal Kernel on Image 2')\n",
        "print(found(applyKernel(i2, k_horizontal)))\n",
        "print('Vertical Kernel on Image 1')\n",
        "print(found(applyKernel(i2, k_vertical)))\n",
        "plt.axis('off')\n",
        "plt.imshow(i2)\n",
        "# NON ZERO VALUE -> EDGE DETECTED! "
      ],
      "execution_count": null,
      "outputs": [
        {
          "output_type": "stream",
          "text": [
            "Horizontal Kernel on Image 2\n",
            "Edge Detected\n",
            "Vertical Kernel on Image 1\n",
            "No Edge Detected\n"
          ],
          "name": "stdout"
        },
        {
          "output_type": "execute_result",
          "data": {
            "text/plain": [
              "<matplotlib.image.AxesImage at 0x7f3b86122e48>"
            ]
          },
          "metadata": {
            "tags": []
          },
          "execution_count": 20
        },
        {
          "output_type": "display_data",
          "data": {
            "image/png": "[encoded data removed]",
            "text/plain": [
              "<Figure size 432x288 with 1 Axes>"
            ]
          },
          "metadata": {
            "tags": [],
            "needs_background": "light"
          }
        }
      ]
    },
    {
      "cell_type": "code",
      "metadata": {
        "id": "_ylhLP07-1PV",
        "colab": {
          "base_uri": "https://localhost:8080/",
          "height": 335
        },
        "outputId": "99eb1cea-dea2-4d9e-a9c1-cff2e3fc7874"
      },
      "source": [
        "print('Horizontal Kernel on Image 3')\n",
        "print(found(applyKernel(i3, k_horizontal)))\n",
        "print('Vertical Kernel on Image 1')\n",
        "print(found(applyKernel(i3, k_vertical)))\n",
        "plt.axis('off')\n",
        "plt.imshow(i3)\n",
        "# VERTICAL EDGE DETECTED! "
      ],
      "execution_count": null,
      "outputs": [
        {
          "output_type": "stream",
          "text": [
            "Horizontal Kernel on Image 3\n",
            "No Edge Detected\n",
            "Vertical Kernel on Image 1\n",
            "Edge Detected\n"
          ],
          "name": "stdout"
        },
        {
          "output_type": "execute_result",
          "data": {
            "text/plain": [
              "<matplotlib.image.AxesImage at 0x7f3b86122320>"
            ]
          },
          "metadata": {
            "tags": []
          },
          "execution_count": 19
        },
        {
          "output_type": "display_data",
          "data": {
            "image/png": "[encoded data removed]",
            "text/plain": [
              "<Figure size 432x288 with 1 Axes>"
            ]
          },
          "metadata": {
            "tags": [],
            "needs_background": "light"
          }
        }
      ]
    },
    {
      "cell_type": "code",
      "metadata": {
        "id": "UCf-kOZI-_Fj"
      },
      "source": [
        ""
      ],
      "execution_count": null,
      "outputs": []
    }
  ]
}